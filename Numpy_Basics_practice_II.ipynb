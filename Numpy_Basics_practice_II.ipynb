{
 "cells": [
  {
   "cell_type": "markdown",
   "metadata": {
    "id": "YmwKgUrAkbfG"
   },
   "source": [
    "# Numpy Basics Exercises\n",
    "\n",
    "Please complete the following exercises **using numpy only**."
   ]
  },
  {
   "cell_type": "markdown",
   "metadata": {
    "id": "oWtZzrvXjxVl"
   },
   "source": [
    "# Array Broadcasting\n",
    "NumPy arrays of different dimensionality can be combined in the same expression. Arrays with smaller dimension are broadcasted to match the larger arrays, without copying data.\n",
    "\n",
    "Broadcasting has two rules.\n",
    "\n",
    "RULE 1: PREPEND ONES TO SMALLER ARRAY'S SHAPE\n",
    "\n",
    "RULE 2: DIMENSIONS OF SIZE 1 ARE REPEATED WITHOUT COPYING"
   ]
  },
  {
   "cell_type": "code",
   "execution_count": 38,
   "metadata": {
    "id": "7vrTvmEWjwtY"
   },
   "outputs": [
    {
     "data": {
      "text/plain": [
       "array([[ 2,  4,  6,  8],\n",
       "       [ 6,  8, 10, 12],\n",
       "       [10, 12, 14, 16]])"
      ]
     },
     "execution_count": 38,
     "metadata": {},
     "output_type": "execute_result"
    }
   ],
   "source": [
    "# Answer here\n",
    "a = np.array([[1, 2, 3, 4],\n",
    "              [5, 6, 7, 8],\n",
    "              [9, 10, 11, 12]])\n",
    "\n",
    "b = np.array([1, 2, 3, 4])\n",
    "c=a+b\n",
    "c"
   ]
  },
  {
   "cell_type": "code",
   "execution_count": 39,
   "metadata": {},
   "outputs": [
    {
     "data": {
      "text/plain": [
       "array([[ 2,  3,  4,  5],\n",
       "       [ 7,  8,  9, 10],\n",
       "       [12, 13, 14, 15]])"
      ]
     },
     "execution_count": 39,
     "metadata": {},
     "output_type": "execute_result"
    }
   ],
   "source": [
    "a = np.array([[1, 2, 3, 4],\n",
    "              [5, 6, 7, 8],\n",
    "              [9, 10, 11, 12]])\n",
    "\n",
    "b = np.array([[1],\n",
    "              [2],\n",
    "              [3]])\n",
    "a+b"
   ]
  },
  {
   "cell_type": "markdown",
   "metadata": {
    "id": "Qp9UkMByj5Il"
   },
   "source": [
    "1.Use reduce() operation on an array to reduec it into a single meaningful value. You. can also use a specific axis to apply reduce operation.\n",
    "\n",
    "2.accumulate() creates a new array containing the intermediate results of the reduce operation at each element in a.\n"
   ]
  },
  {
   "cell_type": "code",
   "execution_count": 35,
   "metadata": {
    "id": "nmLsvmTZj626"
   },
   "outputs": [
    {
     "name": "stdout",
     "output_type": "stream",
     "text": [
      "10\n"
     ]
    }
   ],
   "source": [
    "# Answer here\n",
    "import numpy as np\n",
    "\n",
    "a = np.array([1, 2, 3, 4])\n",
    "result = np.add.reduce(a)\n",
    "print(result)  # Output: 10"
   ]
  },
  {
   "cell_type": "code",
   "execution_count": 36,
   "metadata": {},
   "outputs": [
    {
     "name": "stdout",
     "output_type": "stream",
     "text": [
      "[ 1  3  6 10]\n"
     ]
    }
   ],
   "source": [
    "result = np.add.accumulate(a)\n",
    "print(result)"
   ]
  },
  {
   "cell_type": "markdown",
   "metadata": {
    "id": "Oork_pTdXsin"
   },
   "source": [
    "### Create a 2-D array where the first row goes from 10 to 80 exclusive with steps of 5 and 2nd row goes from 5 to 47 exclusive with steps of 3"
   ]
  },
  {
   "cell_type": "code",
   "execution_count": 1,
   "metadata": {
    "id": "JJs0sRQ7YKgF"
   },
   "outputs": [
    {
     "data": {
      "text/plain": [
       "array([[10, 15, 20, 25, 30, 35, 40, 45, 50, 55, 60, 65, 70, 75],\n",
       "       [ 5,  8, 11, 14, 17, 20, 23, 26, 29, 32, 35, 38, 41, 44]])"
      ]
     },
     "execution_count": 1,
     "metadata": {},
     "output_type": "execute_result"
    }
   ],
   "source": [
    "import numpy as np\n",
    "a=np.arange(10,80,5)\n",
    "b=np.arange(5,47,3)\n",
    "\n",
    "c=np.array((a,b))\n",
    "c"
   ]
  },
  {
   "cell_type": "markdown",
   "metadata": {
    "id": "eBGU-aEqYM16"
   },
   "source": [
    "### Now use indexing to select the 5th 7th and 11th columns"
   ]
  },
  {
   "cell_type": "code",
   "execution_count": 2,
   "metadata": {
    "id": "-xAT9OukYNKx"
   },
   "outputs": [
    {
     "name": "stdout",
     "output_type": "stream",
     "text": [
      "[35 20]\n",
      "[45 26]\n",
      "[65 38]\n"
     ]
    },
    {
     "data": {
      "text/plain": [
       "array([[35, 45, 65],\n",
       "       [20, 26, 38]])"
      ]
     },
     "execution_count": 2,
     "metadata": {},
     "output_type": "execute_result"
    }
   ],
   "source": [
    "print(c[:,5])\n",
    "print(c[:,7])\n",
    "print(c[:,11])\n",
    "c[:,[5,7,11]]"
   ]
  },
  {
   "cell_type": "markdown",
   "metadata": {
    "id": "wu3J-12UZl2I"
   },
   "source": [
    "### Select the 2nd row and fourth-last to second-last columns"
   ]
  },
  {
   "cell_type": "code",
   "execution_count": 3,
   "metadata": {
    "id": "YPAaA_BKZl-N"
   },
   "outputs": [
    {
     "name": "stdout",
     "output_type": "stream",
     "text": [
      "[ 5  8 11 14 17 20 23 26 29 32 35 38 41 44]\n",
      "[[35 38 41]]\n"
     ]
    }
   ],
   "source": [
    "\n",
    "print(c[1,:])\n",
    "print(c[[1],-4:-1])\n"
   ]
  },
  {
   "cell_type": "markdown",
   "metadata": {
    "id": "kCgDP3J_ZmF8"
   },
   "source": [
    "### Select 3rd to 3rd last columns skipping every second column"
   ]
  },
  {
   "cell_type": "code",
   "execution_count": 4,
   "metadata": {
    "id": "YqRY90S0ZmNW"
   },
   "outputs": [
    {
     "name": "stdout",
     "output_type": "stream",
     "text": [
      "[[10 15 20 25 30 35 40 45 50 55 60 65 70 75]\n",
      " [ 5  8 11 14 17 20 23 26 29 32 35 38 41 44]]\n"
     ]
    },
    {
     "data": {
      "text/plain": [
       "array([[20, 30, 40, 50, 60],\n",
       "       [11, 17, 23, 29, 35]])"
      ]
     },
     "execution_count": 4,
     "metadata": {},
     "output_type": "execute_result"
    }
   ],
   "source": [
    "print(c)\n",
    "\n",
    "c[::,2:-3:2]"
   ]
  },
  {
   "cell_type": "markdown",
   "metadata": {
    "id": "x21_4u7SZmUx"
   },
   "source": [
    "###  Select 3rd to 3rd last columns skipping every second column but in reverse order"
   ]
  },
  {
   "cell_type": "code",
   "execution_count": 5,
   "metadata": {
    "id": "oEQws0mAZmcU"
   },
   "outputs": [
    {
     "data": {
      "text/plain": [
       "array([[65, 75],\n",
       "       [38, 44]])"
      ]
     },
     "execution_count": 5,
     "metadata": {},
     "output_type": "execute_result"
    }
   ],
   "source": [
    "c[::,-3::2]"
   ]
  },
  {
   "cell_type": "markdown",
   "metadata": {
    "id": "bqVyb4DKZmkR"
   },
   "source": [
    "### We will work with the following array:"
   ]
  },
  {
   "cell_type": "code",
   "execution_count": 6,
   "metadata": {
    "colab": {
     "base_uri": "https://localhost:8080/"
    },
    "id": "Iz86eeTWZmsK",
    "outputId": "657f8c8d-0a3b-44b8-e0fe-6de9614c11c1"
   },
   "outputs": [
    {
     "data": {
      "text/plain": [
       "array([[ 0,  1,  2,  3,  4],\n",
       "       [ 5,  6,  7,  8,  9],\n",
       "       [10, 11, 12, 13, 14],\n",
       "       [15, 16, 17, 18, 19],\n",
       "       [20, 21, 22, 23, 24]])"
      ]
     },
     "execution_count": 6,
     "metadata": {},
     "output_type": "execute_result"
    }
   ],
   "source": [
    "a = np.arange(25).reshape(5, 5)\n",
    "a"
   ]
  },
  {
   "cell_type": "code",
   "execution_count": 7,
   "metadata": {},
   "outputs": [
    {
     "data": {
      "text/plain": [
       "array([ 7, 13, 19])"
      ]
     },
     "execution_count": 7,
     "metadata": {},
     "output_type": "execute_result"
    }
   ],
   "source": [
    "a[[1,2,3],[2,3,4]]"
   ]
  },
  {
   "cell_type": "markdown",
   "metadata": {
    "id": "OdjK0hqobWGp"
   },
   "source": [
    "### Use slicing only to select 3rd and last row along with 2nd and last columns"
   ]
  },
  {
   "cell_type": "code",
   "execution_count": 8,
   "metadata": {
    "id": "-iw2ciaibUHU"
   },
   "outputs": [
    {
     "data": {
      "text/plain": [
       "array([[13, 14],\n",
       "       [23, 24]])"
      ]
     },
     "execution_count": 8,
     "metadata": {},
     "output_type": "execute_result"
    }
   ],
   "source": [
    "a[2::2,3:]"
   ]
  },
  {
   "cell_type": "markdown",
   "metadata": {
    "id": "5PtInLvEb7Am"
   },
   "source": [
    "### Extract the following sub-array: [[2, 3], [12, 13], [22, 23]]"
   ]
  },
  {
   "cell_type": "code",
   "execution_count": 9,
   "metadata": {
    "id": "lVi9eV2rb6hz"
   },
   "outputs": [
    {
     "name": "stdout",
     "output_type": "stream",
     "text": [
      "[2 3]\n",
      "[12 13]\n",
      "[22 23]\n",
      "[[ 0  1  2  3  4]\n",
      " [ 5  6  7  8  9]\n",
      " [10 11 12 13 14]\n",
      " [15 16 17 18 19]\n",
      " [20 21 22 23 24]]\n"
     ]
    },
    {
     "data": {
      "text/plain": [
       "array([[ 2,  3],\n",
       "       [12, 13],\n",
       "       [17, 18]])"
      ]
     },
     "execution_count": 9,
     "metadata": {},
     "output_type": "execute_result"
    }
   ],
   "source": [
    "print(a[0,2:4])\n",
    "print(a[2,2:4])\n",
    "print(a[4,2:4])\n",
    "print(a)\n",
    "a[[0,2,3],2:4]"
   ]
  },
  {
   "cell_type": "markdown",
   "metadata": {
    "id": "mHN-ADlNcRE7"
   },
   "source": [
    "### Combine fancy/location indexing with slicing to extract the following sub-array: [[6, 8], [16, 18], [21, 23]]"
   ]
  },
  {
   "cell_type": "code",
   "execution_count": 10,
   "metadata": {
    "id": "e_R0tbMHcNGy"
   },
   "outputs": [
    {
     "name": "stdout",
     "output_type": "stream",
     "text": [
      "[[6 8]]\n",
      "[[16 18]]\n",
      "[21 23]\n",
      "[[ 0  1  2  3  4]\n",
      " [ 5  6  7  8  9]\n",
      " [10 11 12 13 14]\n",
      " [15 16 17 18 19]\n",
      " [20 21 22 23 24]]\n"
     ]
    },
    {
     "data": {
      "text/plain": [
       "array([[ 6,  8],\n",
       "       [16, 18],\n",
       "       [21, 23]])"
      ]
     },
     "execution_count": 10,
     "metadata": {},
     "output_type": "execute_result"
    }
   ],
   "source": [
    "\n",
    "print(a[1:2,[1,3]])\n",
    "print(a[3:4,[1,3]])\n",
    "print(a[-1,[1,3]])\n",
    "\n",
    "print(a)\n",
    "\n",
    "a[[1,3,4],1::2]"
   ]
  },
  {
   "cell_type": "markdown",
   "metadata": {
    "id": "gRle44JLc8oL"
   },
   "source": [
    "### Change the values 1, 10, 19 and 22 in the array to -2"
   ]
  },
  {
   "cell_type": "code",
   "execution_count": 11,
   "metadata": {
    "id": "MnIs-SBzdMPv"
   },
   "outputs": [
    {
     "name": "stdout",
     "output_type": "stream",
     "text": [
      "[[ 0  1  2  3  4]\n",
      " [ 5  6  7  8  9]\n",
      " [10 11 12 13 14]\n",
      " [15 16 17 18 19]\n",
      " [20 21 22 23 24]]\n"
     ]
    },
    {
     "data": {
      "text/plain": [
       "array([[ 0, -2,  2,  3,  4],\n",
       "       [ 5,  6,  7,  8,  9],\n",
       "       [-2, 11, 12, 13, 14],\n",
       "       [15, 16, 17, 18, -2],\n",
       "       [20, 21, -2, 23, 24]])"
      ]
     },
     "execution_count": 11,
     "metadata": {},
     "output_type": "execute_result"
    }
   ],
   "source": [
    "print(a)\n",
    "a[[0,2,3,4],[1,0,-1,2]]=-2\n",
    "a"
   ]
  },
  {
   "cell_type": "markdown",
   "metadata": {
    "id": "tWSQO5e3dZxf"
   },
   "source": [
    "### Repeat above using boolean indexing"
   ]
  },
  {
   "cell_type": "code",
   "execution_count": 12,
   "metadata": {
    "id": "zytB7nrMdYfT"
   },
   "outputs": [
    {
     "data": {
      "text/plain": [
       "array([ True,  True,  True,  True])"
      ]
     },
     "execution_count": 12,
     "metadata": {},
     "output_type": "execute_result"
    }
   ],
   "source": [
    "a[[0,2,3,4],[1,0,-1,2]]==-2"
   ]
  },
  {
   "cell_type": "code",
   "execution_count": 13,
   "metadata": {},
   "outputs": [
    {
     "data": {
      "text/plain": [
       "array([[ 0, -2,  2,  3,  4],\n",
       "       [ 5,  6,  7,  8,  9],\n",
       "       [-2, 11, 12, 13, 14],\n",
       "       [15, 16, 17, 18, -2],\n",
       "       [20, 21, -2, 23, 24]])"
      ]
     },
     "execution_count": 13,
     "metadata": {},
     "output_type": "execute_result"
    }
   ],
   "source": [
    "a"
   ]
  },
  {
   "cell_type": "markdown",
   "metadata": {
    "id": "2i_7lkqpdhtx"
   },
   "source": [
    "### Combine slicing in the column dimension and boolean indexing in row dimension to extract the following sub-array: [[0, 3], [10, 13], [15, 18]]"
   ]
  },
  {
   "cell_type": "code",
   "execution_count": 14,
   "metadata": {
    "id": "O8683ef2dYng"
   },
   "outputs": [
    {
     "data": {
      "text/plain": [
       "array([[ 0,  3],\n",
       "       [-2, 13],\n",
       "       [15, 18]])"
      ]
     },
     "execution_count": 14,
     "metadata": {},
     "output_type": "execute_result"
    }
   ],
   "source": [
    "mask = np.array([1,0,1,1,0],dtype='bool')\n",
    "x=a[mask,:4:3]\n",
    "x"
   ]
  },
  {
   "cell_type": "markdown",
   "metadata": {
    "id": "BLH29N-KLDEJ"
   },
   "source": [
    "### Calculating the sum, min and max of all diagonal values"
   ]
  },
  {
   "cell_type": "code",
   "execution_count": 24,
   "metadata": {
    "id": "ARzj6VP9LCPz"
   },
   "outputs": [
    {
     "name": "stdout",
     "output_type": "stream",
     "text": [
      "[[ 0 -2  2  3  4]\n",
      " [ 5  6  7  8  9]\n",
      " [-2 11 12 13 14]\n",
      " [15 16 17 18 -2]\n",
      " [20 21 -2 23 24]]\n",
      "60\n",
      "0\n",
      "24\n"
     ]
    }
   ],
   "source": [
    "print(a)\n",
    "\n",
    "print(np.diag(a).sum())\n",
    "print(np.diag(a).min())\n",
    "print(np.diag(a).max())"
   ]
  },
  {
   "cell_type": "markdown",
   "metadata": {
    "id": "IIL3aHfpMQpr"
   },
   "source": [
    "### Calculate the sum of differences between the 2nd row and 2nd last column"
   ]
  },
  {
   "cell_type": "code",
   "execution_count": 30,
   "metadata": {
    "id": "mNyxI8d0Mcvz"
   },
   "outputs": [
    {
     "name": "stdout",
     "output_type": "stream",
     "text": [
      "sum of 2nd row is:  35\n",
      "sum of 2nd last col is:  65\n",
      "Sum diff between 2nd row and 2nd last col is:  30\n"
     ]
    }
   ],
   "source": [
    "print(\"sum of 2nd row is: \", a[1,:].sum())\n",
    "print(\"sum of 2nd last col is: \", a[:,-2].sum())\n",
    "print(\"Sum diff between 2nd row and 2nd last col is: \",a[:,-2].sum()-a[1,:].sum())"
   ]
  },
  {
   "cell_type": "markdown",
   "metadata": {
    "id": "jEo7E6YNNIU5"
   },
   "source": [
    "### Create a new array that is the sum of even rows and odd rows"
   ]
  },
  {
   "cell_type": "code",
   "execution_count": 34,
   "metadata": {
    "id": "UEwbxwAPNikT"
   },
   "outputs": [
    {
     "name": "stdout",
     "output_type": "stream",
     "text": [
      "[[ 0 -2  2  3  4]\n",
      " [ 5  6  7  8  9]\n",
      " [-2 11 12 13 14]\n",
      " [15 16 17 18 -2]\n",
      " [20 21 -2 23 24]]\n",
      "Sum of odd rows are:  141\n",
      "Sum of even rows are:  99\n"
     ]
    }
   ],
   "source": [
    "print(a)\n",
    "print(\"Sum of odd rows are: \",a[::2,:].sum())\n",
    "print(\"Sum of even rows are: \",a[1::2,::].sum())"
   ]
  },
  {
   "cell_type": "markdown",
   "metadata": {
    "id": "TaKXFf_5d67q"
   },
   "source": [
    "## You are done. Good job!"
   ]
  },
  {
   "cell_type": "code",
   "execution_count": null,
   "metadata": {
    "id": "PwdTR28zd6Ji"
   },
   "outputs": [],
   "source": []
  }
 ],
 "metadata": {
  "colab": {
   "provenance": []
  },
  "kernelspec": {
   "display_name": "Python 3",
   "language": "python",
   "name": "python3"
  },
  "language_info": {
   "codemirror_mode": {
    "name": "ipython",
    "version": 3
   },
   "file_extension": ".py",
   "mimetype": "text/x-python",
   "name": "python",
   "nbconvert_exporter": "python",
   "pygments_lexer": "ipython3",
   "version": "3.8.8"
  }
 },
 "nbformat": 4,
 "nbformat_minor": 1
}
