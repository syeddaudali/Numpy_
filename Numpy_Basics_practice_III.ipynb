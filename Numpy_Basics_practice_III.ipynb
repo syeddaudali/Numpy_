{
 "cells": [
  {
   "cell_type": "code",
   "execution_count": 16,
   "id": "2a8a0fa8-ceee-4b65-9739-39bdbf33d23c",
   "metadata": {
    "id": "2a8a0fa8-ceee-4b65-9739-39bdbf33d23c"
   },
   "outputs": [],
   "source": [
    "import numpy as np"
   ]
  },
  {
   "cell_type": "markdown",
   "id": "6cd94836-36bf-4eca-a68c-4d4afb52ef7d",
   "metadata": {
    "id": "6cd94836-36bf-4eca-a68c-4d4afb52ef7d"
   },
   "source": [
    "# Q1"
   ]
  },
  {
   "cell_type": "markdown",
   "id": "26a82645-942a-40ba-9d5b-a58c65d27817",
   "metadata": {
    "id": "26a82645-942a-40ba-9d5b-a58c65d27817"
   },
   "source": [
    "Statement: Given a 3D NumPy array arr of shape (2, 3, 4), write a code snippet to calculate the sum of all elements in the array.\n",
    "\n",
    "Sample Input:"
   ]
  },
  {
   "cell_type": "code",
   "execution_count": 17,
   "id": "dbf71bf2-1ac9-48f3-96fb-5f22ad767b29",
   "metadata": {
    "id": "dbf71bf2-1ac9-48f3-96fb-5f22ad767b29"
   },
   "outputs": [
    {
     "name": "stdout",
     "output_type": "stream",
     "text": [
      "[[[  3   4   5   6]\n",
      "  [ 11  21  23  32]\n",
      "  [ 56  45 345  45]]\n",
      "\n",
      " [[  3   4   5   6]\n",
      "  [ 11  21  23  32]\n",
      "  [ 56  45 345  45]]]\n",
      "(2, 3, 4)\n"
     ]
    },
    {
     "data": {
      "text/plain": [
       "1192"
      ]
     },
     "execution_count": 17,
     "metadata": {},
     "output_type": "execute_result"
    }
   ],
   "source": [
    "# Answer Here\n",
    "\n",
    "arr = np.array([[[3,4,5,6],[11,21,23,32],[56,45,345,45]],[[3,4,5,6],[11,21,23,32],[56,45,345,45]]])\n",
    "print(arr)\n",
    "print(arr.shape)\n",
    "np.sum(arr)\n",
    "\n"
   ]
  },
  {
   "cell_type": "markdown",
   "id": "14bd52a2-86d8-4ef6-b1ee-de66e9703458",
   "metadata": {
    "id": "14bd52a2-86d8-4ef6-b1ee-de66e9703458"
   },
   "source": [
    "# Q2"
   ]
  },
  {
   "cell_type": "markdown",
   "id": "9a536e77-25c6-4b63-906b-7aa8eaaa073e",
   "metadata": {
    "id": "9a536e77-25c6-4b63-906b-7aa8eaaa073e"
   },
   "source": [
    "Statement: Write a NumPy code snippet to create a 4D array arr of shape (2, 3, 4, 5) filled with random integers ranging from 0 to 9.\n",
    "\n",
    "Sample Output:"
   ]
  },
  {
   "cell_type": "code",
   "execution_count": 18,
   "id": "5602b3f2-13e2-4585-9870-9bc07563c60e",
   "metadata": {
    "id": "5602b3f2-13e2-4585-9870-9bc07563c60e"
   },
   "outputs": [
    {
     "name": "stdout",
     "output_type": "stream",
     "text": [
      "[[[[6 0 5 2 5]\n",
      "   [3 6 2 7 6]\n",
      "   [0 7 5 2 4]\n",
      "   [8 4 1 1 4]]\n",
      "\n",
      "  [[2 8 1 3 2]\n",
      "   [5 7 4 3 3]\n",
      "   [0 6 8 8 7]\n",
      "   [7 7 4 8 4]]\n",
      "\n",
      "  [[7 6 1 1 8]\n",
      "   [6 2 0 2 4]\n",
      "   [5 6 4 7 3]\n",
      "   [4 1 3 6 1]]]\n",
      "\n",
      "\n",
      " [[[6 5 2 6 2]\n",
      "   [0 3 6 5 4]\n",
      "   [7 1 4 7 7]\n",
      "   [3 2 4 5 2]]\n",
      "\n",
      "  [[1 0 1 2 4]\n",
      "   [7 2 5 7 8]\n",
      "   [1 2 6 4 1]\n",
      "   [1 4 1 4 3]]\n",
      "\n",
      "  [[7 1 7 1 1]\n",
      "   [0 4 6 8 1]\n",
      "   [8 8 1 1 5]\n",
      "   [8 5 2 2 3]]]]\n"
     ]
    },
    {
     "data": {
      "text/plain": [
       "(2, 3, 4, 5)"
      ]
     },
     "execution_count": 18,
     "metadata": {},
     "output_type": "execute_result"
    }
   ],
   "source": [
    "# Answer Here\n",
    "a=np.random.randint(9,size=(2, 3, 4, 5))\n",
    "print(a)\n",
    "a.shape\n",
    "\n"
   ]
  },
  {
   "cell_type": "markdown",
   "id": "540f8d57-6cc0-4e53-8744-787e868276a4",
   "metadata": {
    "id": "540f8d57-6cc0-4e53-8744-787e868276a4"
   },
   "source": [
    "# Q3"
   ]
  },
  {
   "cell_type": "markdown",
   "id": "37497bad-10e3-4c65-b4f6-65bb5ed0b00d",
   "metadata": {
    "id": "37497bad-10e3-4c65-b4f6-65bb5ed0b00d"
   },
   "source": [
    "Statement: Given a 4D NumPy array arr of shape (2, 3, 4, 5), write a code snippet to calculate the mean along the second axis.\n",
    "\n",
    "Sample Input:"
   ]
  },
  {
   "cell_type": "code",
   "execution_count": 19,
   "id": "84df3761-5341-4010-b541-6a79a1b74625",
   "metadata": {
    "id": "84df3761-5341-4010-b541-6a79a1b74625"
   },
   "outputs": [
    {
     "data": {
      "text/plain": [
       "array([[[4.25, 4.25, 3.25, 3.  , 4.75],\n",
       "        [3.5 , 7.  , 4.25, 5.5 , 4.  ],\n",
       "        [5.5 , 3.75, 2.  , 4.  , 4.  ]],\n",
       "\n",
       "       [[4.  , 2.75, 4.  , 5.75, 3.75],\n",
       "        [2.5 , 2.  , 3.25, 4.25, 4.  ],\n",
       "        [5.75, 4.5 , 4.  , 3.  , 2.5 ]]])"
      ]
     },
     "execution_count": 19,
     "metadata": {},
     "output_type": "execute_result"
    }
   ],
   "source": [
    "# Answer Here\n",
    "np.mean(a,axis=2)\n"
   ]
  },
  {
   "cell_type": "code",
   "execution_count": null,
   "id": "5487e86b",
   "metadata": {},
   "outputs": [],
   "source": []
  },
  {
   "cell_type": "code",
   "execution_count": null,
   "id": "db7584c1",
   "metadata": {},
   "outputs": [],
   "source": []
  },
  {
   "cell_type": "code",
   "execution_count": null,
   "id": "4bfff545",
   "metadata": {},
   "outputs": [],
   "source": []
  },
  {
   "cell_type": "code",
   "execution_count": null,
   "id": "2ae18266",
   "metadata": {},
   "outputs": [],
   "source": []
  },
  {
   "cell_type": "code",
   "execution_count": null,
   "id": "de0e014a",
   "metadata": {},
   "outputs": [],
   "source": []
  },
  {
   "cell_type": "code",
   "execution_count": null,
   "id": "911ea47a",
   "metadata": {},
   "outputs": [],
   "source": []
  },
  {
   "cell_type": "code",
   "execution_count": null,
   "id": "97fd55d9",
   "metadata": {},
   "outputs": [],
   "source": []
  },
  {
   "cell_type": "markdown",
   "id": "9d4cd387-ca18-4951-a1ab-63a7a1f80a0d",
   "metadata": {
    "id": "9d4cd387-ca18-4951-a1ab-63a7a1f80a0d"
   },
   "source": [
    "# Q4"
   ]
  },
  {
   "cell_type": "markdown",
   "id": "768891f0-dd85-4a6b-a336-31061a30945f",
   "metadata": {
    "id": "768891f0-dd85-4a6b-a336-31061a30945f"
   },
   "source": [
    "Statement: You have collected data from a temperature sensor placed at different locations over a period of time. The recorded temperatures are stored in a 3D NumPy array temps of shape (7, 24, 60), where the dimensions represent the number of days, hours in a day, and minutes in an hour, respectively. Write a code snippet to calculate the average temperature for each day.\n",
    "\n",
    "Sample Input:"
   ]
  },
  {
   "cell_type": "code",
   "execution_count": 21,
   "id": "5364113e",
   "metadata": {},
   "outputs": [
    {
     "data": {
      "text/plain": [
       "array([[[3, 8, 6, ..., 1, 5, 8],\n",
       "        [5, 3, 8, ..., 6, 1, 6],\n",
       "        [5, 7, 6, ..., 5, 3, 2],\n",
       "        ...,\n",
       "        [6, 7, 2, ..., 7, 0, 4],\n",
       "        [5, 8, 2, ..., 6, 1, 6],\n",
       "        [7, 5, 6, ..., 3, 7, 2]],\n",
       "\n",
       "       [[6, 6, 0, ..., 4, 2, 3],\n",
       "        [0, 0, 5, ..., 6, 3, 4],\n",
       "        [8, 6, 5, ..., 2, 0, 1],\n",
       "        ...,\n",
       "        [1, 5, 3, ..., 4, 8, 6],\n",
       "        [6, 8, 3, ..., 0, 6, 8],\n",
       "        [6, 8, 1, ..., 4, 3, 6]],\n",
       "\n",
       "       [[3, 8, 7, ..., 6, 8, 1],\n",
       "        [5, 4, 3, ..., 3, 4, 3],\n",
       "        [0, 1, 5, ..., 5, 2, 4],\n",
       "        ...,\n",
       "        [6, 1, 6, ..., 0, 8, 8],\n",
       "        [2, 5, 3, ..., 1, 1, 2],\n",
       "        [4, 0, 4, ..., 1, 0, 2]],\n",
       "\n",
       "       ...,\n",
       "\n",
       "       [[4, 8, 4, ..., 5, 1, 5],\n",
       "        [7, 8, 0, ..., 1, 8, 1],\n",
       "        [3, 5, 6, ..., 2, 4, 3],\n",
       "        ...,\n",
       "        [5, 5, 2, ..., 1, 5, 3],\n",
       "        [2, 7, 0, ..., 5, 8, 2],\n",
       "        [7, 4, 0, ..., 4, 0, 5]],\n",
       "\n",
       "       [[1, 0, 2, ..., 5, 8, 8],\n",
       "        [0, 0, 2, ..., 1, 3, 0],\n",
       "        [6, 8, 3, ..., 7, 3, 0],\n",
       "        ...,\n",
       "        [8, 4, 4, ..., 4, 7, 1],\n",
       "        [4, 7, 6, ..., 1, 2, 1],\n",
       "        [5, 7, 4, ..., 0, 0, 0]],\n",
       "\n",
       "       [[7, 2, 8, ..., 8, 1, 1],\n",
       "        [4, 2, 7, ..., 7, 5, 8],\n",
       "        [2, 5, 1, ..., 3, 2, 2],\n",
       "        ...,\n",
       "        [0, 8, 4, ..., 7, 5, 7],\n",
       "        [5, 0, 2, ..., 6, 2, 4],\n",
       "        [0, 2, 0, ..., 4, 8, 4]]])"
      ]
     },
     "execution_count": 21,
     "metadata": {},
     "output_type": "execute_result"
    }
   ],
   "source": [
    "b=np.random.randint(9,size=(7, 24, 60))\n",
    "b"
   ]
  },
  {
   "cell_type": "code",
   "execution_count": 241,
   "id": "905df96f-ee7f-410f-adae-88758871af96",
   "metadata": {
    "id": "905df96f-ee7f-410f-adae-88758871af96"
   },
   "outputs": [
    {
     "data": {
      "text/plain": [
       "array([14.85763889, 14.77083333, 14.59166667, 14.45      , 14.39722222,\n",
       "       14.43888889, 14.675     ])"
      ]
     },
     "execution_count": 241,
     "metadata": {},
     "output_type": "execute_result"
    }
   ],
   "source": [
    "\n",
    "# Answer Here\n",
    "\n",
    "b=np.random.randint(30,size=(7, 24, 60))\n",
    "# t1=b[0].mean()\n",
    "# t2=b[1].mean()\n",
    "# t3=b[2].mean()\n",
    "# t4=b[3].mean()\n",
    "# t5=b[4].mean()\n",
    "# t6=b[5].mean()\n",
    "# t7=b[6].mean()\n",
    "np.mean(b, axis = (1,2))\n",
    "\n",
    "#np.array((t1,t2,t3,t4,t5,t6,t7))\n",
    "#np.mean(b[0].mean())\n"
   ]
  },
  {
   "cell_type": "markdown",
   "id": "f8913844-39a1-4d9b-a434-7af478336f20",
   "metadata": {
    "id": "f8913844-39a1-4d9b-a434-7af478336f20"
   },
   "source": [
    "Sample Output:\n",
    "\n",
    "array([27.43864059, 26.99643944, 27.10398301, 27.43854821, 26.81072977,\n",
    "       26.76581481, 27.07946152])"
   ]
  },
  {
   "cell_type": "markdown",
   "id": "55a224ca-01c9-4b13-8bc9-1db7269a35d5",
   "metadata": {
    "id": "55a224ca-01c9-4b13-8bc9-1db7269a35d5"
   },
   "source": [
    "# Q5"
   ]
  },
  {
   "cell_type": "markdown",
   "id": "af5efd9b-ff4f-4ae1-af9a-da9bf621d3bd",
   "metadata": {
    "id": "af5efd9b-ff4f-4ae1-af9a-da9bf621d3bd"
   },
   "source": [
    "Statement: You have collected data from multiple sensors placed in different rooms of a building. The sensor readings are stored in a 4D NumPy array readings of shape (4, 7, 24, 60), where the dimensions represent the number of sensors, number of days, hours in a day, and minutes in an hour, respectively. Write a code snippet to calculate the maximum reading for each sensor across all days."
   ]
  },
  {
   "cell_type": "code",
   "execution_count": 107,
   "id": "79873e69-35ad-4bde-ba48-cf33218b1dc2",
   "metadata": {
    "id": "79873e69-35ad-4bde-ba48-cf33218b1dc2"
   },
   "outputs": [
    {
     "name": "stdout",
     "output_type": "stream",
     "text": [
      "(4, 7, 24, 60)\n"
     ]
    },
    {
     "data": {
      "text/plain": [
       "array([49, 49, 49, 49])"
      ]
     },
     "execution_count": 107,
     "metadata": {},
     "output_type": "execute_result"
    }
   ],
   "source": [
    "# Answer Here\n",
    "\n",
    "arr=np.random.randint(50,size=(4, 7, 24, 60))\n",
    "print(arr.shape)\n",
    "np.max(arr,axis=(1,2,3))\n"
   ]
  },
  {
   "cell_type": "code",
   "execution_count": null,
   "id": "d12f44ce",
   "metadata": {},
   "outputs": [],
   "source": []
  },
  {
   "cell_type": "code",
   "execution_count": null,
   "id": "63b7f98b",
   "metadata": {},
   "outputs": [],
   "source": []
  },
  {
   "cell_type": "markdown",
   "id": "e8ca2836-0977-4b11-a214-a93630131927",
   "metadata": {
    "id": "e8ca2836-0977-4b11-a214-a93630131927"
   },
   "source": [
    "# Q6"
   ]
  },
  {
   "cell_type": "markdown",
   "id": "b324cb33-b481-4cf8-a148-9292ec382a8c",
   "metadata": {
    "id": "b324cb33-b481-4cf8-a148-9292ec382a8c"
   },
   "source": [
    "Statement: You have collected data from a 3D printer that measures the dimensions of printed objects. The recorded dimensions are stored in a 3D NumPy array dimensions of shape (100, 50, 3), where the dimensions represent the number of printed objects, number of measurements for each object, and the three dimensions (length, width, height), respectively. Write a code snippet to calculate the average length, width, and height across all objects.\n",
    "\n",
    "Sample Inpumt:"
   ]
  },
  {
   "cell_type": "code",
   "execution_count": 254,
   "id": "d1199cf1-5f47-45f5-a090-615021490d8e",
   "metadata": {
    "id": "d1199cf1-5f47-45f5-a090-615021490d8e"
   },
   "outputs": [
    {
     "data": {
      "text/plain": [
       "9.5322"
      ]
     },
     "execution_count": 254,
     "metadata": {},
     "output_type": "execute_result"
    }
   ],
   "source": [
    "# Answer Here\n",
    "a=np.random.randint((20),size=(100,50,3))\n",
    "np.mean(a,axis=(0,1,2))"
   ]
  },
  {
   "cell_type": "markdown",
   "id": "a3c20cfa-7ad6-437b-8837-1eabded47ac7",
   "metadata": {
    "id": "a3c20cfa-7ad6-437b-8837-1eabded47ac7"
   },
   "source": [
    "# Q7"
   ]
  },
  {
   "cell_type": "markdown",
   "id": "c5c5e835-2d6d-4bec-a700-4125e2ea7375",
   "metadata": {
    "id": "c5c5e835-2d6d-4bec-a700-4125e2ea7375"
   },
   "source": [
    "Statement: You are given a 3D NumPy array data of shape (5, 6, 7) representing the sensor readings from multiple sensors placed in different locations over a period of time. Each sensor provides measurements at different time points. Write a code snippet to calculate the following statistics for each sensor:\n",
    "\n",
    "Total number of measurements\n",
    "\n",
    "Average measurement value\n",
    "\n",
    "Standard deviation of measurements\n",
    "\n",
    "Minimum measurement value\n",
    "\n",
    "Maximum measurement value\n",
    "\n",
    "Sample Input:"
   ]
  },
  {
   "cell_type": "code",
   "execution_count": null,
   "id": "46256376-8395-460c-a736-71a83252e47f",
   "metadata": {
    "id": "46256376-8395-460c-a736-71a83252e47f"
   },
   "outputs": [],
   "source": [
    "# Answer Here\n"
   ]
  },
  {
   "cell_type": "code",
   "execution_count": 264,
   "id": "87f085a1-fec3-40e5-90db-d535c0de01c0",
   "metadata": {
    "id": "87f085a1-fec3-40e5-90db-d535c0de01c0"
   },
   "outputs": [
    {
     "data": {
      "text/plain": [
       "(5, 6, 7)"
      ]
     },
     "execution_count": 264,
     "metadata": {},
     "output_type": "execute_result"
    }
   ],
   "source": [
    "a=np.random.randint(15,size= (5, 6, 7))\n",
    "a.shape"
   ]
  },
  {
   "cell_type": "code",
   "execution_count": 257,
   "id": "ce1528e3",
   "metadata": {},
   "outputs": [
    {
     "data": {
      "text/plain": [
       "array([7.4047619 , 5.66666667, 6.04761905, 6.92857143, 6.78571429])"
      ]
     },
     "execution_count": 257,
     "metadata": {},
     "output_type": "execute_result"
    }
   ],
   "source": [
    "np.mean(a,axis=(1,2))"
   ]
  },
  {
   "cell_type": "code",
   "execution_count": 258,
   "id": "bbd7084c",
   "metadata": {},
   "outputs": [
    {
     "data": {
      "text/plain": [
       "array([3.9343392 , 4.28544973, 3.57872271, 4.38825737, 4.71338375])"
      ]
     },
     "execution_count": 258,
     "metadata": {},
     "output_type": "execute_result"
    }
   ],
   "source": [
    "np.std(a,axis=(1,2))"
   ]
  },
  {
   "cell_type": "code",
   "execution_count": 259,
   "id": "1d51439b",
   "metadata": {},
   "outputs": [
    {
     "data": {
      "text/plain": [
       "array([1, 0, 0, 0, 0])"
      ]
     },
     "execution_count": 259,
     "metadata": {},
     "output_type": "execute_result"
    }
   ],
   "source": [
    "np.min(a,axis=(1,2))"
   ]
  },
  {
   "cell_type": "code",
   "execution_count": 260,
   "id": "0629fb49",
   "metadata": {},
   "outputs": [
    {
     "data": {
      "text/plain": [
       "array([14, 14, 13, 13, 14])"
      ]
     },
     "execution_count": 260,
     "metadata": {},
     "output_type": "execute_result"
    }
   ],
   "source": [
    "np.max(a,axis=(1,2))"
   ]
  },
  {
   "cell_type": "code",
   "execution_count": 261,
   "id": "4e4863b2",
   "metadata": {},
   "outputs": [
    {
     "data": {
      "text/plain": [
       "array([0, 0, 0, 0, 0])"
      ]
     },
     "execution_count": 261,
     "metadata": {},
     "output_type": "execute_result"
    }
   ],
   "source": [
    "np.prod(a,axis=(1,2))"
   ]
  },
  {
   "cell_type": "code",
   "execution_count": null,
   "id": "25b30d0b",
   "metadata": {},
   "outputs": [],
   "source": []
  },
  {
   "cell_type": "code",
   "execution_count": null,
   "id": "dcc4a098",
   "metadata": {},
   "outputs": [],
   "source": []
  },
  {
   "cell_type": "code",
   "execution_count": 2,
   "id": "2a1b79d5",
   "metadata": {},
   "outputs": [
    {
     "name": "stdout",
     "output_type": "stream",
     "text": [
      "\n"
     ]
    }
   ],
   "source": []
  },
  {
   "cell_type": "code",
   "execution_count": null,
   "id": "570cbc13",
   "metadata": {},
   "outputs": [],
   "source": []
  },
  {
   "cell_type": "code",
   "execution_count": 230,
   "id": "e635f0a8",
   "metadata": {},
   "outputs": [
    {
     "data": {
      "text/plain": [
       "7"
      ]
     },
     "execution_count": 230,
     "metadata": {},
     "output_type": "execute_result"
    }
   ],
   "source": [
    "a=np.array([3,4,5,6,7])\n",
    "np.max(a)"
   ]
  },
  {
   "cell_type": "code",
   "execution_count": null,
   "id": "a0a314ad",
   "metadata": {},
   "outputs": [],
   "source": [
    "a=np.array([[2334,5,6,3],[34,4,43,3],[34,5,6,3],[34,4,443,3],[1,3,4,4]])\n",
    "print(a)\n",
    "np.max(a,axis=(1))  # in 2d 0:row , 1:col"
   ]
  },
  {
   "cell_type": "code",
   "execution_count": 4,
   "id": "b6938ebc",
   "metadata": {},
   "outputs": [
    {
     "ename": "NameError",
     "evalue": "name 'np' is not defined",
     "output_type": "error",
     "traceback": [
      "\u001b[1;31m---------------------------------------------------------------------------\u001b[0m",
      "\u001b[1;31mNameError\u001b[0m                                 Traceback (most recent call last)",
      "\u001b[1;32m<ipython-input-4-3f9b13fcff5c>\u001b[0m in \u001b[0;36m<module>\u001b[1;34m\u001b[0m\n\u001b[1;32m----> 1\u001b[1;33m \u001b[0marr\u001b[0m \u001b[1;33m=\u001b[0m \u001b[0mnp\u001b[0m\u001b[1;33m.\u001b[0m\u001b[0marray\u001b[0m\u001b[1;33m(\u001b[0m\u001b[1;33m[\u001b[0m\u001b[1;33m[\u001b[0m\u001b[1;33m[\u001b[0m\u001b[1;36m343\u001b[0m\u001b[1;33m,\u001b[0m\u001b[1;36m23454\u001b[0m\u001b[1;33m,\u001b[0m\u001b[1;36m25\u001b[0m\u001b[1;33m,\u001b[0m\u001b[1;36m46\u001b[0m\u001b[1;33m]\u001b[0m\u001b[1;33m,\u001b[0m\u001b[1;33m[\u001b[0m\u001b[1;36m112\u001b[0m\u001b[1;33m,\u001b[0m\u001b[1;36m231\u001b[0m\u001b[1;33m,\u001b[0m\u001b[1;36m23234\u001b[0m\u001b[1;33m,\u001b[0m\u001b[1;36m32\u001b[0m\u001b[1;33m]\u001b[0m\u001b[1;33m,\u001b[0m\u001b[1;33m[\u001b[0m\u001b[1;36m56\u001b[0m\u001b[1;33m,\u001b[0m\u001b[1;36m45\u001b[0m\u001b[1;33m,\u001b[0m\u001b[1;36m345\u001b[0m\u001b[1;33m,\u001b[0m\u001b[1;36m45\u001b[0m\u001b[1;33m]\u001b[0m\u001b[1;33m]\u001b[0m\u001b[1;33m,\u001b[0m\u001b[1;33m[\u001b[0m\u001b[1;33m[\u001b[0m\u001b[1;36m3\u001b[0m\u001b[1;33m,\u001b[0m\u001b[1;36m4\u001b[0m\u001b[1;33m,\u001b[0m\u001b[1;36m5\u001b[0m\u001b[1;33m,\u001b[0m\u001b[1;36m6\u001b[0m\u001b[1;33m]\u001b[0m\u001b[1;33m,\u001b[0m\u001b[1;33m[\u001b[0m\u001b[1;33m-\u001b[0m\u001b[1;36m1\u001b[0m\u001b[1;33m,\u001b[0m\u001b[1;33m-\u001b[0m\u001b[1;36m2\u001b[0m\u001b[1;33m,\u001b[0m\u001b[1;33m-\u001b[0m\u001b[1;36m3\u001b[0m\u001b[1;33m,\u001b[0m\u001b[1;33m-\u001b[0m\u001b[1;36m4\u001b[0m\u001b[1;33m]\u001b[0m\u001b[1;33m,\u001b[0m\u001b[1;33m[\u001b[0m\u001b[1;36m56\u001b[0m\u001b[1;33m,\u001b[0m\u001b[1;36m45\u001b[0m\u001b[1;33m,\u001b[0m\u001b[1;36m345\u001b[0m\u001b[1;33m,\u001b[0m\u001b[1;36m45\u001b[0m\u001b[1;33m]\u001b[0m\u001b[1;33m]\u001b[0m\u001b[1;33m,\u001b[0m\u001b[1;33m[\u001b[0m\u001b[1;33m[\u001b[0m\u001b[1;36m343\u001b[0m\u001b[1;33m,\u001b[0m\u001b[1;36m23454\u001b[0m\u001b[1;33m,\u001b[0m\u001b[1;36m25\u001b[0m\u001b[1;33m,\u001b[0m\u001b[1;36m46\u001b[0m\u001b[1;33m]\u001b[0m\u001b[1;33m,\u001b[0m\u001b[1;33m[\u001b[0m\u001b[1;36m112\u001b[0m\u001b[1;33m,\u001b[0m\u001b[1;36m231\u001b[0m\u001b[1;33m,\u001b[0m\u001b[1;36m23234\u001b[0m\u001b[1;33m,\u001b[0m\u001b[1;36m32\u001b[0m\u001b[1;33m]\u001b[0m\u001b[1;33m,\u001b[0m\u001b[1;33m[\u001b[0m\u001b[1;36m56\u001b[0m\u001b[1;33m,\u001b[0m\u001b[1;36m45\u001b[0m\u001b[1;33m,\u001b[0m\u001b[1;36m345\u001b[0m\u001b[1;33m,\u001b[0m\u001b[1;36m45\u001b[0m\u001b[1;33m]\u001b[0m\u001b[1;33m]\u001b[0m\u001b[1;33m]\u001b[0m\u001b[1;33m)\u001b[0m\u001b[1;33m\u001b[0m\u001b[1;33m\u001b[0m\u001b[0m\n\u001b[0m\u001b[0;32m      2\u001b[0m \u001b[0mprint\u001b[0m\u001b[1;33m(\u001b[0m\u001b[0marr\u001b[0m\u001b[1;33m)\u001b[0m\u001b[1;33m\u001b[0m\u001b[1;33m\u001b[0m\u001b[0m\n\u001b[0;32m      3\u001b[0m \u001b[0mnp\u001b[0m\u001b[1;33m.\u001b[0m\u001b[0mmax\u001b[0m\u001b[1;33m(\u001b[0m\u001b[0marr\u001b[0m\u001b[1;33m,\u001b[0m\u001b[0maxis\u001b[0m\u001b[1;33m=\u001b[0m\u001b[1;33m(\u001b[0m\u001b[1;36m1\u001b[0m\u001b[1;33m,\u001b[0m\u001b[1;36m2\u001b[0m\u001b[1;33m)\u001b[0m\u001b[1;33m)\u001b[0m \u001b[1;31m# in 3d  0: channel ,1: rows, 2: cols\u001b[0m\u001b[1;33m\u001b[0m\u001b[1;33m\u001b[0m\u001b[0m\n",
      "\u001b[1;31mNameError\u001b[0m: name 'np' is not defined"
     ]
    }
   ],
   "source": [
    "arr = np.array([[[343,23454,25,46],[112,231,23234,32],[56,45,345,45]],[[3,4,5,6],[-1,-2,-3,-4],[56,45,345,45]],[[343,23454,25,46],[112,231,23234,32],[56,45,345,45]]])\n",
    "print(arr)\n",
    "np.max(arr,axis=(1,2)) # in 3d  0: channel ,1: rows, 2: cols"
   ]
  },
  {
   "cell_type": "code",
   "execution_count": null,
   "id": "24fb2316",
   "metadata": {},
   "outputs": [],
   "source": []
  }
 ],
 "metadata": {
  "colab": {
   "provenance": []
  },
  "kernelspec": {
   "display_name": "Python 3",
   "language": "python",
   "name": "python3"
  },
  "language_info": {
   "codemirror_mode": {
    "name": "ipython",
    "version": 3
   },
   "file_extension": ".py",
   "mimetype": "text/x-python",
   "name": "python",
   "nbconvert_exporter": "python",
   "pygments_lexer": "ipython3",
   "version": "3.8.8"
  }
 },
 "nbformat": 4,
 "nbformat_minor": 5
}
