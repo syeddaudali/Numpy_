{
 "cells": [
  {
   "cell_type": "code",
   "execution_count": 1,
   "metadata": {
    "id": "qQxFQvrEEKqm"
   },
   "outputs": [],
   "source": [
    "import numpy as np"
   ]
  },
  {
   "cell_type": "code",
   "execution_count": null,
   "metadata": {
    "colab": {
     "base_uri": "https://localhost:8080/"
    },
    "id": "n_ncJAFDEbs1",
    "outputId": "a09be9aa-5efa-45c6-b212-e9ebec9db71a"
   },
   "outputs": [
    {
     "name": "stdout",
     "output_type": "stream",
     "text": [
      "Mounted at /content/drive\n"
     ]
    }
   ],
   "source": [
    "from google.colab import drive\n",
    "drive.mount('/content/drive')"
   ]
  },
  {
   "cell_type": "markdown",
   "metadata": {
    "id": "5dL78wl-ElhS"
   },
   "source": [
    "# Q.1\n",
    "**Statement:** You are working with a retail store that needs to manage its inventory efficiently. They have provided you with a dataset containing information about products, their quantities in stock, and the number of units sold daily for the past week. Total number of products are 5. Your task is to calculate the following:\n",
    "\n",
    "\n",
    "\n",
    "1.The total sales for each product over the past week.\n",
    "\n",
    "2.The average daily sales for each product.\n",
    "\n",
    "3.The product with the highest sales.\n",
    "\n",
    "4.The product with the lowest sales.\n",
    "\n",
    "5.The total sales for all products combined.\n",
    "\n",
    "You are required to use NumPy for efficient data processing and calculations. Write code to solve this inventory management problem."
   ]
  },
  {
   "cell_type": "code",
   "execution_count": 15,
   "metadata": {
    "id": "DxtXsLXRVpdW"
   },
   "outputs": [
    {
     "name": "stdout",
     "output_type": "stream",
     "text": [
      "Total Sales Revenue of Product A is:  175\n",
      "Total Sales Revenue of Product B is:  72\n",
      "Total Sales Revenue of Product C is:  205\n",
      "Total Sales Revenue of Product D is:  204\n",
      "Total Sales Revenue of Product E is:  210\n",
      "[175  72 205 204 210]\n"
     ]
    },
    {
     "ename": "AxisError",
     "evalue": "axis 1 is out of bounds for array of dimension 1",
     "output_type": "error",
     "traceback": [
      "\u001b[1;31m---------------------------------------------------------------------------\u001b[0m",
      "\u001b[1;31mAxisError\u001b[0m                                 Traceback (most recent call last)",
      "\u001b[1;32m<ipython-input-15-f839dd0c6089>\u001b[0m in \u001b[0;36m<module>\u001b[1;34m\u001b[0m\n\u001b[0;32m     21\u001b[0m \u001b[1;31m# Calculate average daily sales for each product\u001b[0m\u001b[1;33m\u001b[0m\u001b[1;33m\u001b[0m\u001b[1;33m\u001b[0m\u001b[0m\n\u001b[0;32m     22\u001b[0m \u001b[1;32mfor\u001b[0m \u001b[0mi\u001b[0m \u001b[1;32min\u001b[0m \u001b[0mrange\u001b[0m\u001b[1;33m(\u001b[0m\u001b[0mlen\u001b[0m\u001b[1;33m(\u001b[0m\u001b[0mproduct_names\u001b[0m\u001b[1;33m)\u001b[0m\u001b[1;33m)\u001b[0m\u001b[1;33m:\u001b[0m\u001b[1;33m\u001b[0m\u001b[1;33m\u001b[0m\u001b[0m\n\u001b[1;32m---> 23\u001b[1;33m     \u001b[0mprint\u001b[0m\u001b[1;33m(\u001b[0m\u001b[1;34mf\"Average daily Sales of {product_names[i]} is: \"\u001b[0m\u001b[1;33m,\u001b[0m\u001b[0mnp\u001b[0m\u001b[1;33m.\u001b[0m\u001b[0mmean\u001b[0m\u001b[1;33m(\u001b[0m\u001b[0mdaily_sales_data\u001b[0m\u001b[1;33m[\u001b[0m\u001b[0mi\u001b[0m\u001b[1;33m]\u001b[0m\u001b[1;33m,\u001b[0m\u001b[0maxis\u001b[0m\u001b[1;33m=\u001b[0m\u001b[1;36m1\u001b[0m\u001b[1;33m)\u001b[0m\u001b[1;33m)\u001b[0m\u001b[1;33m\u001b[0m\u001b[1;33m\u001b[0m\u001b[0m\n\u001b[0m\u001b[0;32m     24\u001b[0m \u001b[1;31m#np.mean(daily_sales_data,axis=1)\u001b[0m\u001b[1;33m\u001b[0m\u001b[1;33m\u001b[0m\u001b[1;33m\u001b[0m\u001b[0m\n\u001b[0;32m     25\u001b[0m \u001b[1;33m\u001b[0m\u001b[0m\n",
      "\u001b[1;32mC:\\Downloaded Software\\lib\\site-packages\\numpy\\core\\overrides.py\u001b[0m in \u001b[0;36mmean\u001b[1;34m(*args, **kwargs)\u001b[0m\n",
      "\u001b[1;32mC:\\Downloaded Software\\lib\\site-packages\\numpy\\core\\fromnumeric.py\u001b[0m in \u001b[0;36mmean\u001b[1;34m(a, axis, dtype, out, keepdims, where)\u001b[0m\n\u001b[0;32m   3472\u001b[0m             \u001b[1;32mreturn\u001b[0m \u001b[0mmean\u001b[0m\u001b[1;33m(\u001b[0m\u001b[0maxis\u001b[0m\u001b[1;33m=\u001b[0m\u001b[0maxis\u001b[0m\u001b[1;33m,\u001b[0m \u001b[0mdtype\u001b[0m\u001b[1;33m=\u001b[0m\u001b[0mdtype\u001b[0m\u001b[1;33m,\u001b[0m \u001b[0mout\u001b[0m\u001b[1;33m=\u001b[0m\u001b[0mout\u001b[0m\u001b[1;33m,\u001b[0m \u001b[1;33m**\u001b[0m\u001b[0mkwargs\u001b[0m\u001b[1;33m)\u001b[0m\u001b[1;33m\u001b[0m\u001b[1;33m\u001b[0m\u001b[0m\n\u001b[0;32m   3473\u001b[0m \u001b[1;33m\u001b[0m\u001b[0m\n\u001b[1;32m-> 3474\u001b[1;33m     return _methods._mean(a, axis=axis, dtype=dtype,\n\u001b[0m\u001b[0;32m   3475\u001b[0m                           out=out, **kwargs)\n\u001b[0;32m   3476\u001b[0m \u001b[1;33m\u001b[0m\u001b[0m\n",
      "\u001b[1;32mC:\\Downloaded Software\\lib\\site-packages\\numpy\\core\\_methods.py\u001b[0m in \u001b[0;36m_mean\u001b[1;34m(a, axis, dtype, out, keepdims, where)\u001b[0m\n\u001b[0;32m    165\u001b[0m     \u001b[0mis_float16_result\u001b[0m \u001b[1;33m=\u001b[0m \u001b[1;32mFalse\u001b[0m\u001b[1;33m\u001b[0m\u001b[1;33m\u001b[0m\u001b[0m\n\u001b[0;32m    166\u001b[0m \u001b[1;33m\u001b[0m\u001b[0m\n\u001b[1;32m--> 167\u001b[1;33m     \u001b[0mrcount\u001b[0m \u001b[1;33m=\u001b[0m \u001b[0m_count_reduce_items\u001b[0m\u001b[1;33m(\u001b[0m\u001b[0marr\u001b[0m\u001b[1;33m,\u001b[0m \u001b[0maxis\u001b[0m\u001b[1;33m,\u001b[0m \u001b[0mkeepdims\u001b[0m\u001b[1;33m=\u001b[0m\u001b[0mkeepdims\u001b[0m\u001b[1;33m,\u001b[0m \u001b[0mwhere\u001b[0m\u001b[1;33m=\u001b[0m\u001b[0mwhere\u001b[0m\u001b[1;33m)\u001b[0m\u001b[1;33m\u001b[0m\u001b[1;33m\u001b[0m\u001b[0m\n\u001b[0m\u001b[0;32m    168\u001b[0m     \u001b[1;32mif\u001b[0m \u001b[0mrcount\u001b[0m \u001b[1;33m==\u001b[0m \u001b[1;36m0\u001b[0m \u001b[1;32mif\u001b[0m \u001b[0mwhere\u001b[0m \u001b[1;32mis\u001b[0m \u001b[1;32mTrue\u001b[0m \u001b[1;32melse\u001b[0m \u001b[0mumr_any\u001b[0m\u001b[1;33m(\u001b[0m\u001b[0mrcount\u001b[0m \u001b[1;33m==\u001b[0m \u001b[1;36m0\u001b[0m\u001b[1;33m,\u001b[0m \u001b[0maxis\u001b[0m\u001b[1;33m=\u001b[0m\u001b[1;32mNone\u001b[0m\u001b[1;33m)\u001b[0m\u001b[1;33m:\u001b[0m\u001b[1;33m\u001b[0m\u001b[1;33m\u001b[0m\u001b[0m\n\u001b[0;32m    169\u001b[0m         \u001b[0mwarnings\u001b[0m\u001b[1;33m.\u001b[0m\u001b[0mwarn\u001b[0m\u001b[1;33m(\u001b[0m\u001b[1;34m\"Mean of empty slice.\"\u001b[0m\u001b[1;33m,\u001b[0m \u001b[0mRuntimeWarning\u001b[0m\u001b[1;33m,\u001b[0m \u001b[0mstacklevel\u001b[0m\u001b[1;33m=\u001b[0m\u001b[1;36m2\u001b[0m\u001b[1;33m)\u001b[0m\u001b[1;33m\u001b[0m\u001b[1;33m\u001b[0m\u001b[0m\n",
      "\u001b[1;32mC:\\Downloaded Software\\lib\\site-packages\\numpy\\core\\_methods.py\u001b[0m in \u001b[0;36m_count_reduce_items\u001b[1;34m(arr, axis, keepdims, where)\u001b[0m\n\u001b[0;32m     74\u001b[0m         \u001b[0mitems\u001b[0m \u001b[1;33m=\u001b[0m \u001b[0mnt\u001b[0m\u001b[1;33m.\u001b[0m\u001b[0mintp\u001b[0m\u001b[1;33m(\u001b[0m\u001b[1;36m1\u001b[0m\u001b[1;33m)\u001b[0m\u001b[1;33m\u001b[0m\u001b[1;33m\u001b[0m\u001b[0m\n\u001b[0;32m     75\u001b[0m         \u001b[1;32mfor\u001b[0m \u001b[0max\u001b[0m \u001b[1;32min\u001b[0m \u001b[0maxis\u001b[0m\u001b[1;33m:\u001b[0m\u001b[1;33m\u001b[0m\u001b[1;33m\u001b[0m\u001b[0m\n\u001b[1;32m---> 76\u001b[1;33m             \u001b[0mitems\u001b[0m \u001b[1;33m*=\u001b[0m \u001b[0marr\u001b[0m\u001b[1;33m.\u001b[0m\u001b[0mshape\u001b[0m\u001b[1;33m[\u001b[0m\u001b[0mmu\u001b[0m\u001b[1;33m.\u001b[0m\u001b[0mnormalize_axis_index\u001b[0m\u001b[1;33m(\u001b[0m\u001b[0max\u001b[0m\u001b[1;33m,\u001b[0m \u001b[0marr\u001b[0m\u001b[1;33m.\u001b[0m\u001b[0mndim\u001b[0m\u001b[1;33m)\u001b[0m\u001b[1;33m]\u001b[0m\u001b[1;33m\u001b[0m\u001b[1;33m\u001b[0m\u001b[0m\n\u001b[0m\u001b[0;32m     77\u001b[0m     \u001b[1;32melse\u001b[0m\u001b[1;33m:\u001b[0m\u001b[1;33m\u001b[0m\u001b[1;33m\u001b[0m\u001b[0m\n\u001b[0;32m     78\u001b[0m         \u001b[1;31m# TODO: Optimize case when `where` is broadcast along a non-reduction\u001b[0m\u001b[1;33m\u001b[0m\u001b[1;33m\u001b[0m\u001b[1;33m\u001b[0m\u001b[0m\n",
      "\u001b[1;31mAxisError\u001b[0m: axis 1 is out of bounds for array of dimension 1"
     ]
    }
   ],
   "source": [
    "import numpy as np\n",
    "\n",
    "# Sample data (replace with your actual data)\n",
    "product_names = np.array(['Product A', 'Product B', 'Product C', 'Product D', 'Product E'])\n",
    "quantities_in_stock = np.array([100, 150, 200, 250, 50])\n",
    "\n",
    "daily_sales_data = np.array([[10, 15, 20, 25, 30, 35, 40],\n",
    "                             [5, 7, 8, 10, 12, 14, 16],\n",
    "                             [15, 20, 25, 30, 35, 40, 40],\n",
    "                             [12, 25, 20, 40, 20, 32, 55],\n",
    "                             [15, 20, 25, 30, 35, 40, 45]])\n",
    "\n",
    "# Calculate total sales revenue for each product over the past week\n",
    "revenue= np.array([[10,15,20,25,30]])\n",
    "for i in range(len(product_names)):\n",
    "    print(f\"Total Sales Revenue of {product_names[i]} is: \",np.sum(daily_sales_data[i]))\n",
    "    \n",
    "\n",
    "print(np.sum(daily_sales_data,axis=1))\n",
    "\n",
    "# Calculate average daily sales for each product\n",
    "for i in range(len(product_names)):\n",
    "    print(f\"Average daily Sales of {product_names[i]} is: \",np.mean(daily_sales_data[i]))\n",
    "#np.mean(daily_sales_data,axis=1)\n",
    "\n",
    "\n",
    "\n",
    "# Find the product with the highest and lowest sales\n",
    "print(np.max(daily_sales_data[i]),np.min(daily_sales_data))\n",
    "\n",
    "\n",
    "\n",
    "# Calculate the total sales revenue for all products combined\n",
    "np.sum(daily_sales_data)"
   ]
  },
  {
   "cell_type": "markdown",
   "metadata": {
    "id": "ICk1qoQHVwDc"
   },
   "source": [
    "# Q.2\n",
    "**Statement:** Statement: You are working with a manufacturing plant that produces various components. They have provided you with data on the production rates of five different machines over the past month. Your task is to analyze the performance of these machines by calculating the following metrics:\n",
    "\n",
    "1.The total production output for each machine over the past month.\n",
    "\n",
    "2.The average daily production rate for each machine.\n",
    "\n",
    "3.The machine with the highest total production output.\n",
    "\n",
    "4.The machine with the lowest total production output.\n",
    "\n",
    "The overall production efficiency of the plant, which is defined as the ratio of the total production output to the total number of hours worked, and working hour for each day is 2 hours."
   ]
  },
  {
   "cell_type": "code",
   "execution_count": 32,
   "metadata": {
    "id": "lIu6pfmgbUQd"
   },
   "outputs": [
    {
     "name": "stdout",
     "output_type": "stream",
     "text": [
      "[[182 107 139 176 175 177 115 195 111 145 129 150 181 100 137 131 190 156\n",
      "  124 172 114 156 108 103 115 117 100 191 199 166]\n",
      " [136 171 117 161 198 100 200 167 190 108 138 173 180 143 100 143 200 120\n",
      "  177 111 149 162 196 129 125 199 156 179 115 170]\n",
      " [179 164 199 178 166 147 168 169 174 138 127 117 113 138 185 131 198 169\n",
      "  172 183 177 175 156 108 164 132 151 168 166 151]\n",
      " [160 120 103 183 151 161 125 101 132 103 114 191 175 113 132 116 127 105\n",
      "  170 188 199 177 161 197 107 183 138 116 127 114]\n",
      " [101 141 169 119 105 125 121 180 182 120 195 199 124 185 179 186 165 193\n",
      "  183 157 118 194 154 168 107 199 150 146 181 143]]\n",
      "[4361 4613 4763 4289 4689]\n",
      "[145.36666667 153.76666667 158.76666667 142.96666667 156.3       ]\n",
      "200\n",
      "100\n",
      "75.71666666666667\n"
     ]
    }
   ],
   "source": [
    "\n",
    "\n",
    "# Sample data (replace with your actual data)\n",
    "\n",
    "\n",
    "# Generate random production rates between 100 and 200 for 5 machines and 30 days\n",
    "data=np.random.randint(100,201,size=(5,30))\n",
    "print(data)\n",
    "\n",
    "# Calculate total production output for each machine over the past month\n",
    "print(np.sum(data,axis=1))\n",
    "\n",
    "# Calculate average daily production rate for each machine\n",
    "print(np.mean(data,axis=1))\n",
    "\n",
    "# Find the machine with the highest and lowest total production output\n",
    "print(np.max(data))\n",
    "print(np.min(data))\n",
    "# Calculate the overall production efficiency of the plant\n",
    "print(np.sum(data)/(5*2*30))\n"
   ]
  },
  {
   "cell_type": "markdown",
   "metadata": {
    "id": "Ayc9TG-vff7A"
   },
   "source": [
    "# Q3:\n",
    "\n",
    "**Statment**\n",
    "You are working on a project that involves simulating sensor data for a network of 10 sensors over a period of 15 days. Each sensor collects data once per hour. Your task is to generate a NumPy array named sensor_data to represent this simulated sensor data and perform following statistical analysis on it.\n",
    "\n",
    "Populate the sensor_data array with random floating-point values between 0.0 and 100.0\n",
    "The generated values should represent sensor readings collected once per hour.\n",
    "\n",
    "After generating the sensor_data array, perform the following statistical **calculations:**\n",
    "\n",
    "1.Calculate the mean (average) sensor reading for each sensor over the 15 days.\n",
    "\n",
    "2.Calculate the standard deviation of sensor readings for each sensor.\n",
    "\n",
    "3.Calculate the maximum sensor reading for each sensor.\n",
    "\n",
    "4.Calculate the minimum sensor reading for each sensor.\n",
    "\n",
    "5.Calculate the overall mean sensor reading for all sensors and all days.\n",
    "\n",
    "6.Calculate the overall standard deviation of sensor readings for all sensors an"
   ]
  },
  {
   "cell_type": "code",
   "execution_count": 3,
   "metadata": {
    "id": "TWSK9GA1gfz0"
   },
   "outputs": [
    {
     "name": "stdout",
     "output_type": "stream",
     "text": [
      "[48.85833333 50.15555556 47.05       50.73611111 51.08055556 50.58888889\n",
      " 53.68333333 50.53611111 51.83055556 52.88055556]\n",
      "[30.12159501 27.38619324 28.28157527 30.07582688 27.09103295 29.7500306\n",
      " 29.48077999 29.09971032 28.60024591 28.96079073]\n",
      "[99 99 99 99 99 99 99 99 98 99]\n",
      "[0 0 0 0 0 0 0 0 0 0]\n",
      "50.74\n"
     ]
    },
    {
     "data": {
      "text/plain": [
       "28.957606177920773"
      ]
     },
     "execution_count": 3,
     "metadata": {},
     "output_type": "execute_result"
    }
   ],
   "source": [
    "import numpy as np\n",
    "\n",
    "# Data Generation Requirements\n",
    "num_sensors = 10\n",
    "num_days = 15\n",
    "hours_per_day = 24\n",
    "shape = (num_sensors, num_days * hours_per_day)\n",
    "\n",
    "#Calculate the mean (average) sensor reading for each sensor over the 15 days.\n",
    "data=np.random.randint(0.0,100.0,size=(10,15,24))\n",
    "print(np.mean(data,axis=(1,2)))\n",
    "\n",
    "#Calculate the standard deviation of sensor readings for each sensor.\n",
    "print(np.std(data,axis=(1,2)))\n",
    "\n",
    "#Calculate the maximum sensor reading for each sensor.\n",
    "print(np.max(data,axis=(1,2)))\n",
    "\n",
    "#Calculate the minimum sensor reading for each sensor.\n",
    "print(np.min(data,axis=(1,2)))\n",
    "\n",
    "#Calculate the overall mean sensor reading for all sensors and all days.\n",
    "print(np.mean(data))\n",
    "\n",
    "#Calculate the overall standard deviation of sensor readings for all sensors an\n",
    "np.std(data)"
   ]
  },
  {
   "cell_type": "markdown",
   "metadata": {
    "id": "IShr0NSyhcEc"
   },
   "source": [
    "# Q4:\n",
    "\n",
    "**Statement**: You are tasked with analyzing the exam scores of 30 students in a class over a period of 10 exams. The exam scores are represented as a NumPy, where each row corresponds to a different student, and each column represents their score in a specific exam.\n",
    "\n",
    "Populate the exam_scores array with random integer values between 50 and 100 to simulate students' exam performance.\n",
    "\n",
    "After generating the exam_scores array, perform the following tasks:\n",
    "\n",
    "1.Calculate the average score for each student over the 10 exams.\n",
    "\n",
    "2.Calculate the standard deviation of scores for each student.\n",
    "\n",
    "3.Identify students who have consistently performed well, defined as those whose average score is above 85.\n",
    "\n",
    "4.Identify students who may need additional support, defined as those whose average score is below 50.\n",
    "\n",
    "Write code to create and populate the exam_scores array and then perform the specified statistical analysis and performance evaluation tasks on the data.\n",
    "\n",
    "\n",
    "\n"
   ]
  },
  {
   "cell_type": "code",
   "execution_count": 11,
   "metadata": {
    "id": "F3p_SMeoiT2o"
   },
   "outputs": [
    {
     "name": "stdout",
     "output_type": "stream",
     "text": [
      "[[68 78 71 82 84 67 54 52 73 64]\n",
      " [99 59 86 96 65 69 83 92 76 65]\n",
      " [75 96 53 56 65 91 84 67 99 59]\n",
      " [75 99 74 69 72 92 85 71 81 50]\n",
      " [58 62 84 93 77 93 89 69 59 82]\n",
      " [60 52 69 79 56 72 96 65 57 70]\n",
      " [87 74 93 81 57 51 72 72 68 85]\n",
      " [53 98 98 53 92 59 74 56 58 69]\n",
      " [78 71 55 67 97 65 79 95 89 68]\n",
      " [76 54 92 71 88 96 53 78 59 74]\n",
      " [98 82 57 93 57 94 84 67 91 53]\n",
      " [99 80 75 89 59 53 66 65 93 95]\n",
      " [54 63 76 76 52 87 51 67 81 68]\n",
      " [92 98 63 54 82 75 88 69 55 92]\n",
      " [81 50 99 79 81 51 68 77 93 90]\n",
      " [66 61 95 92 85 98 97 54 84 53]\n",
      " [78 82 86 69 63 68 96 96 60 89]\n",
      " [96 91 66 96 86 78 71 81 94 95]\n",
      " [99 61 74 83 81 69 75 69 97 98]\n",
      " [54 75 67 76 89 82 78 89 82 85]\n",
      " [89 77 62 68 74 92 72 75 80 85]\n",
      " [63 90 93 87 77 56 71 51 84 94]\n",
      " [76 67 51 83 75 54 98 90 80 70]\n",
      " [91 70 91 68 57 93 81 70 88 61]\n",
      " [71 65 54 55 94 72 91 69 97 58]\n",
      " [69 87 81 88 67 79 91 89 89 79]\n",
      " [85 58 94 90 91 69 57 73 56 96]\n",
      " [94 75 52 95 90 82 58 86 52 78]\n",
      " [95 99 51 95 74 86 73 88 54 94]\n",
      " [68 93 88 52 73 84 68 74 84 55]]\n",
      "[69.3 79.  74.5 76.8 76.6 67.6 74.  71.  76.4 74.1 77.6 77.4 67.5 76.8\n",
      " 76.9 78.5 78.7 85.4 80.6 77.7 77.4 76.6 74.4 77.  72.6 81.9 76.9 76.2\n",
      " 80.9 73.9]\n",
      "[10.18871925 13.50555441 16.17559891 12.86701209 13.04760514 12.32233744\n",
      " 12.49799984 17.60113633 13.09350984 14.48758089 16.51786911 15.44150252\n",
      " 11.92686044 15.21052267 15.59134375 17.21191448 12.5463142  10.39422917\n",
      " 12.82341608 10.15923225  8.85663593 14.86741403 13.95134402 12.72792206\n",
      " 15.2787434   8.08022277 15.36522047 15.80379701 16.43441511 12.94179277]\n",
      "[85.4]\n",
      "1\n",
      "29\n"
     ]
    },
    {
     "data": {
      "text/plain": [
       "(array([0, 1, 2, 3, 4, 5, 6, 7, 8, 9], dtype=int64),)"
      ]
     },
     "execution_count": 11,
     "metadata": {},
     "output_type": "execute_result"
    }
   ],
   "source": [
    "import numpy as np\n",
    "\n",
    "# Create the exam_scores array (30 students, 10 exams)\n",
    "num_students = 30\n",
    "num_exams = 10\n",
    "\n",
    "# Populate the exam_scores array with random scores between 50 and 100\n",
    "data=np.random.randint(50,100,size=(30,10))\n",
    "print(data)\n",
    "\n",
    "# 1. Calculate the average score for each student over the 10 exams\n",
    "print(np.mean(data,axis=1))\n",
    "\n",
    "# 2. Calculate the standard deviation of scores for each student\n",
    "print(np.std(data,axis=1))\n",
    "\n",
    "\n",
    "# 3. Identify students who have consistently performed well (average score > 85)\n",
    "results=[]\n",
    "index_no=0\n",
    "for i in range(len(data)):\n",
    "    if data[i].mean() >= 85:\n",
    "        r1=results.append(data[i].mean())\n",
    "    else:\n",
    "        index_no +=1\n",
    "print(results)\n",
    "print(len(results))\n",
    "print(index_no)\n",
    "# 4. Identify students who may need additional support (average score < 60)\n",
    "\n",
    "np.where(np.mean(data,axis=0))"
   ]
  },
  {
   "cell_type": "code",
   "execution_count": null,
   "metadata": {},
   "outputs": [],
   "source": []
  }
 ],
 "metadata": {
  "colab": {
   "provenance": []
  },
  "kernelspec": {
   "display_name": "Python 3",
   "language": "python",
   "name": "python3"
  },
  "language_info": {
   "codemirror_mode": {
    "name": "ipython",
    "version": 3
   },
   "file_extension": ".py",
   "mimetype": "text/x-python",
   "name": "python",
   "nbconvert_exporter": "python",
   "pygments_lexer": "ipython3",
   "version": "3.8.8"
  }
 },
 "nbformat": 4,
 "nbformat_minor": 1
}
